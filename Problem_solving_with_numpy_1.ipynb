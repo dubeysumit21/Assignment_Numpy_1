{
 "cells": [
  {
   "cell_type": "markdown",
   "id": "b73d3c38",
   "metadata": {},
   "source": [
    "### Problem solvong with Numpy"
   ]
  },
  {
   "cell_type": "markdown",
   "id": "886260f3",
   "metadata": {},
   "source": [
    "1. Write a function, foo_1, that takes a NumPy array `arr` and returns the indices of the elements that are closest to a given target. If target is not in the given array, it should return ‘no item found’"
   ]
  },
  {
   "cell_type": "code",
   "execution_count": 2,
   "id": "4c786e32",
   "metadata": {},
   "outputs": [],
   "source": [
    "import numpy as np"
   ]
  },
  {
   "cell_type": "code",
   "execution_count": 115,
   "id": "09ba2c26",
   "metadata": {},
   "outputs": [],
   "source": [
    "def foo_1(a, target):\n",
    "    numpy_array = np.array(a)\n",
    "    result_arr = []\n",
    "    arr = abs(target - numpy_array)\n",
    "    if len(np.where(numpy_array == target)[0]) == 0:\n",
    "        print(\"no item found\")\n",
    "    else:\n",
    "        for i in np.arange(0, max(arr)+1):\n",
    "            result_arr = np.append(result_arr, np.where(arr == i))\n",
    "        print(result_arr.astype(int))"
   ]
  },
  {
   "cell_type": "code",
   "execution_count": 116,
   "id": "8dc31824",
   "metadata": {},
   "outputs": [
    {
     "name": "stdout",
     "output_type": "stream",
     "text": [
      "[2 3 4 5 6 8 1 7 9 0]\n"
     ]
    }
   ],
   "source": [
    "foo_1([3, 8, 7, 7, 7, 7, 7, 8, 7, 10], 7)"
   ]
  },
  {
   "cell_type": "code",
   "execution_count": 117,
   "id": "30a27d43",
   "metadata": {},
   "outputs": [
    {
     "name": "stdout",
     "output_type": "stream",
     "text": [
      "no item found\n"
     ]
    }
   ],
   "source": [
    "foo_1([3, 8, 7, 7, 7, 7, 7, 8, 7, 10], 11)"
   ]
  },
  {
   "cell_type": "markdown",
   "id": "28ccd82d",
   "metadata": {},
   "source": [
    "2. Write a user defined function foo_2 that takes a  2,3 dim NumPy array arr and returns a new n-1 dim array, where each element is replaced by the count of non-zero elements wrt axis."
   ]
  },
  {
   "cell_type": "code",
   "execution_count": 58,
   "id": "1383f9e9",
   "metadata": {},
   "outputs": [],
   "source": [
    "def is_positive(a):\n",
    "    counter = 0\n",
    "    for i in a:\n",
    "        if i>0:\n",
    "            counter+=1\n",
    "    return counter"
   ]
  },
  {
   "cell_type": "code",
   "execution_count": 59,
   "id": "4c103c79",
   "metadata": {},
   "outputs": [],
   "source": [
    "def find_count(arr1, axis_value):\n",
    "    print(np.apply_along_axis(is_positive,axis=axis_value, arr=arr1))"
   ]
  },
  {
   "cell_type": "code",
   "execution_count": 60,
   "id": "2517441f",
   "metadata": {},
   "outputs": [
    {
     "name": "stdout",
     "output_type": "stream",
     "text": [
      "[2 2 2 1]\n"
     ]
    }
   ],
   "source": [
    "arr = np.array([[1, 2, 3, 4],\n",
    "                [0, 5, 0, 0],\n",
    "                [2, 0, 1, 0]])\n",
    "find_count(arr, 0)"
   ]
  },
  {
   "cell_type": "code",
   "execution_count": 194,
   "id": "3eb7d3ca",
   "metadata": {},
   "outputs": [
    {
     "name": "stdout",
     "output_type": "stream",
     "text": [
      "[4 1 2]\n"
     ]
    }
   ],
   "source": [
    "find_count(arr, 1)"
   ]
  },
  {
   "cell_type": "code",
   "execution_count": 196,
   "id": "fc63097c",
   "metadata": {},
   "outputs": [
    {
     "name": "stdout",
     "output_type": "stream",
     "text": [
      "[[2 1 2 1]\n",
      " [0 2 0 0]\n",
      " [2 1 2 1]]\n"
     ]
    }
   ],
   "source": [
    "arr1 = np.array([[[1, 2, 3, 4],\n",
    "                 [0, 5, 0, 0],\n",
    "                 [2, 0, 1, 0]],\n",
    "                 \n",
    "                 [[2, 0, 1, 0],\n",
    "                 [0, 5, 0, 0],\n",
    "                 [1, 2, 3, 4]]])\n",
    "find_count(arr1, 0)"
   ]
  },
  {
   "cell_type": "code",
   "execution_count": 197,
   "id": "c637912b",
   "metadata": {},
   "outputs": [
    {
     "name": "stdout",
     "output_type": "stream",
     "text": [
      "[[2 2 2 1]\n",
      " [2 2 2 1]]\n"
     ]
    }
   ],
   "source": [
    "find_count(arr1, 1)"
   ]
  },
  {
   "cell_type": "code",
   "execution_count": 198,
   "id": "56b0faa6",
   "metadata": {},
   "outputs": [
    {
     "name": "stdout",
     "output_type": "stream",
     "text": [
      "[[4 1 2]\n",
      " [2 1 4]]\n"
     ]
    }
   ],
   "source": [
    "find_count(arr1, 2)"
   ]
  },
  {
   "cell_type": "markdown",
   "id": "e34926ac",
   "metadata": {},
   "source": [
    "3\n",
    "1. You are given a 2D NumPy array of data representing student scores. Each row represents a student, and each column represents a subject. Extract the scores of all students who scored above 90 in at least one subject. Provide the resulting array."
   ]
  },
  {
   "cell_type": "code",
   "execution_count": 334,
   "id": "5990acc9",
   "metadata": {},
   "outputs": [],
   "source": [
    "x = np.array([[85, 89, 88],\n",
    "             [78, 89, 94],\n",
    "             [91, 87, 90],\n",
    "             [87, 95, 84]])"
   ]
  },
  {
   "cell_type": "code",
   "execution_count": 365,
   "id": "30cc08f5",
   "metadata": {},
   "outputs": [],
   "source": [
    "def func_marks(a):\n",
    "    z = np.array([0,0,0])\n",
    "    for i in a:\n",
    "        if len(np.where(i > 90)[0]) > 0:\n",
    "            z = np.vstack((z, i))\n",
    "    print(z[1:])"
   ]
  },
  {
   "cell_type": "code",
   "execution_count": 366,
   "id": "2f8e1bf8",
   "metadata": {},
   "outputs": [
    {
     "name": "stdout",
     "output_type": "stream",
     "text": [
      "[[78 89 94]\n",
      " [91 87 90]\n",
      " [87 95 84]]\n"
     ]
    }
   ],
   "source": [
    "func_marks(x)"
   ]
  },
  {
   "cell_type": "markdown",
   "id": "fe8fd96d",
   "metadata": {},
   "source": [
    "2. You are provided with a 2D NumPy array of data representing sales data for different products. Each row corresponds to a product, and each column represents the monthly sales for a specific month. Calculate the following statistics for each product: mean, median, standard deviation, and the month with the highest sales."
   ]
  },
  {
   "cell_type": "code",
   "execution_count": 521,
   "id": "84ca09a2",
   "metadata": {},
   "outputs": [],
   "source": [
    "x = np.array([[120, 150, 130, 110],\n",
    "              [200, 180, 220, 250],\n",
    "              [90, 100, 95, 110],\n",
    "              [300, 280, 320, 340]])"
   ]
  },
  {
   "cell_type": "code",
   "execution_count": 522,
   "id": "8fd6e560",
   "metadata": {},
   "outputs": [],
   "source": [
    "def find_index(a):\n",
    "    for i in enumerate(x):\n",
    "        if np.all(i[1] == a):\n",
    "            return i[0] + 1"
   ]
  },
  {
   "cell_type": "code",
   "execution_count": 523,
   "id": "5d5c9e60",
   "metadata": {},
   "outputs": [],
   "source": [
    "def calculate(a):\n",
    "    print(f'Product: {find_index(a)}:', end='\\n')\n",
    "    print(f'Mean: {np.mean(a)}', end='\\n')\n",
    "    print(f'Median: {np.median(a)}', end='\\n')\n",
    "    print(f'Standard Deviation: {np.std(a)}', end='\\n')\n",
    "    print(f'Month with Highest Sale: {np.where(a == np.max(a))[0][0] + 1}', end='\\n\\n')"
   ]
  },
  {
   "cell_type": "code",
   "execution_count": 524,
   "id": "f178b207",
   "metadata": {},
   "outputs": [
    {
     "name": "stdout",
     "output_type": "stream",
     "text": [
      "Product: 1:\n",
      "Mean: 127.5\n",
      "Median: 125.0\n",
      "Standard Deviation: 14.79019945774904\n",
      "Month with Highest Sale: 2\n",
      "\n",
      "Product: 2:\n",
      "Mean: 212.5\n",
      "Median: 210.0\n",
      "Standard Deviation: 25.8602010819715\n",
      "Month with Highest Sale: 4\n",
      "\n",
      "Product: 3:\n",
      "Mean: 98.75\n",
      "Median: 97.5\n",
      "Standard Deviation: 7.39509972887452\n",
      "Month with Highest Sale: 4\n",
      "\n",
      "Product: 4:\n",
      "Mean: 310.0\n",
      "Median: 310.0\n",
      "Standard Deviation: 22.360679774997898\n",
      "Month with Highest Sale: 4\n",
      "\n"
     ]
    }
   ],
   "source": [
    "x = np.apply_along_axis(calculate, axis=1, arr=x)"
   ]
  },
  {
   "cell_type": "markdown",
   "id": "e002850d",
   "metadata": {},
   "source": [
    "3. Create a NumPy array of size 1000 with random integers between 1 and 100. Then, use NumPy functions to find the top 10 most frequently occurring values in the array."
   ]
  },
  {
   "cell_type": "code",
   "execution_count": 54,
   "id": "b29512d2",
   "metadata": {},
   "outputs": [],
   "source": [
    "zz = np.random.randint(1,100,1000)\n",
    "values, count = np.unique(zz, return_counts=True)"
   ]
  },
  {
   "cell_type": "code",
   "execution_count": 56,
   "id": "10d06d5c",
   "metadata": {},
   "outputs": [],
   "source": [
    "sorted_indices = np.argsort(-count)[:10]"
   ]
  },
  {
   "cell_type": "code",
   "execution_count": 57,
   "id": "8bacee74",
   "metadata": {},
   "outputs": [
    {
     "name": "stdout",
     "output_type": "stream",
     "text": [
      "97 occured 18 times\n",
      "24 occured 18 times\n",
      "40 occured 17 times\n",
      "55 occured 16 times\n",
      "42 occured 16 times\n",
      "86 occured 16 times\n",
      "15 occured 16 times\n",
      "74 occured 15 times\n",
      "73 occured 15 times\n",
      "14 occured 15 times\n"
     ]
    }
   ],
   "source": [
    "for i in sorted_indices:\n",
    "    print(f'{values[i]} occured {count[i]} times')"
   ]
  }
 ],
 "metadata": {
  "kernelspec": {
   "display_name": "Python 3 (ipykernel)",
   "language": "python",
   "name": "python3"
  },
  "language_info": {
   "codemirror_mode": {
    "name": "ipython",
    "version": 3
   },
   "file_extension": ".py",
   "mimetype": "text/x-python",
   "name": "python",
   "nbconvert_exporter": "python",
   "pygments_lexer": "ipython3",
   "version": "3.11.5"
  }
 },
 "nbformat": 4,
 "nbformat_minor": 5
}
